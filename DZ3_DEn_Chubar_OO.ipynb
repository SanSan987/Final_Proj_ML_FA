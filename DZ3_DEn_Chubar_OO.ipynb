{
  "nbformat": 4,
  "nbformat_minor": 0,
  "metadata": {
    "colab": {
      "provenance": [],
      "authorship_tag": "ABX9TyNr/gHpflBsa79gq+3jiD/o",
      "include_colab_link": true
    },
    "kernelspec": {
      "name": "python3",
      "display_name": "Python 3"
    },
    "language_info": {
      "name": "python"
    }
  },
  "cells": [
    {
      "cell_type": "markdown",
      "metadata": {
        "id": "view-in-github",
        "colab_type": "text"
      },
      "source": [
        "<a href=\"https://colab.research.google.com/github/SanSan987/Final_Proj_ML_FA/blob/main/DZ3_DEn_Chubar_OO.ipynb\" target=\"_parent\"><img src=\"https://colab.research.google.com/assets/colab-badge.svg\" alt=\"Open In Colab\"/></a>"
      ]
    },
    {
      "cell_type": "code",
      "source": [
        "from google.colab import files\n",
        "uploaded = files.upload()\n"
      ],
      "metadata": {
        "colab": {
          "base_uri": "https://localhost:8080/",
          "height": 144
        },
        "id": "m8qYKJDORuPi",
        "outputId": "430fa0c7-04e4-446a-b7c9-52332617cfbc"
      },
      "execution_count": 2,
      "outputs": [
        {
          "output_type": "display_data",
          "data": {
            "text/plain": [
              "<IPython.core.display.HTML object>"
            ],
            "text/html": [
              "\n",
              "     <input type=\"file\" id=\"files-f8dc9cba-51c9-460f-bded-5d9060a71a34\" name=\"files[]\" multiple disabled\n",
              "        style=\"border:none\" />\n",
              "     <output id=\"result-f8dc9cba-51c9-460f-bded-5d9060a71a34\">\n",
              "      Upload widget is only available when the cell has been executed in the\n",
              "      current browser session. Please rerun this cell to enable.\n",
              "      </output>\n",
              "      <script>// Copyright 2017 Google LLC\n",
              "//\n",
              "// Licensed under the Apache License, Version 2.0 (the \"License\");\n",
              "// you may not use this file except in compliance with the License.\n",
              "// You may obtain a copy of the License at\n",
              "//\n",
              "//      http://www.apache.org/licenses/LICENSE-2.0\n",
              "//\n",
              "// Unless required by applicable law or agreed to in writing, software\n",
              "// distributed under the License is distributed on an \"AS IS\" BASIS,\n",
              "// WITHOUT WARRANTIES OR CONDITIONS OF ANY KIND, either express or implied.\n",
              "// See the License for the specific language governing permissions and\n",
              "// limitations under the License.\n",
              "\n",
              "/**\n",
              " * @fileoverview Helpers for google.colab Python module.\n",
              " */\n",
              "(function(scope) {\n",
              "function span(text, styleAttributes = {}) {\n",
              "  const element = document.createElement('span');\n",
              "  element.textContent = text;\n",
              "  for (const key of Object.keys(styleAttributes)) {\n",
              "    element.style[key] = styleAttributes[key];\n",
              "  }\n",
              "  return element;\n",
              "}\n",
              "\n",
              "// Max number of bytes which will be uploaded at a time.\n",
              "const MAX_PAYLOAD_SIZE = 100 * 1024;\n",
              "\n",
              "function _uploadFiles(inputId, outputId) {\n",
              "  const steps = uploadFilesStep(inputId, outputId);\n",
              "  const outputElement = document.getElementById(outputId);\n",
              "  // Cache steps on the outputElement to make it available for the next call\n",
              "  // to uploadFilesContinue from Python.\n",
              "  outputElement.steps = steps;\n",
              "\n",
              "  return _uploadFilesContinue(outputId);\n",
              "}\n",
              "\n",
              "// This is roughly an async generator (not supported in the browser yet),\n",
              "// where there are multiple asynchronous steps and the Python side is going\n",
              "// to poll for completion of each step.\n",
              "// This uses a Promise to block the python side on completion of each step,\n",
              "// then passes the result of the previous step as the input to the next step.\n",
              "function _uploadFilesContinue(outputId) {\n",
              "  const outputElement = document.getElementById(outputId);\n",
              "  const steps = outputElement.steps;\n",
              "\n",
              "  const next = steps.next(outputElement.lastPromiseValue);\n",
              "  return Promise.resolve(next.value.promise).then((value) => {\n",
              "    // Cache the last promise value to make it available to the next\n",
              "    // step of the generator.\n",
              "    outputElement.lastPromiseValue = value;\n",
              "    return next.value.response;\n",
              "  });\n",
              "}\n",
              "\n",
              "/**\n",
              " * Generator function which is called between each async step of the upload\n",
              " * process.\n",
              " * @param {string} inputId Element ID of the input file picker element.\n",
              " * @param {string} outputId Element ID of the output display.\n",
              " * @return {!Iterable<!Object>} Iterable of next steps.\n",
              " */\n",
              "function* uploadFilesStep(inputId, outputId) {\n",
              "  const inputElement = document.getElementById(inputId);\n",
              "  inputElement.disabled = false;\n",
              "\n",
              "  const outputElement = document.getElementById(outputId);\n",
              "  outputElement.innerHTML = '';\n",
              "\n",
              "  const pickedPromise = new Promise((resolve) => {\n",
              "    inputElement.addEventListener('change', (e) => {\n",
              "      resolve(e.target.files);\n",
              "    });\n",
              "  });\n",
              "\n",
              "  const cancel = document.createElement('button');\n",
              "  inputElement.parentElement.appendChild(cancel);\n",
              "  cancel.textContent = 'Cancel upload';\n",
              "  const cancelPromise = new Promise((resolve) => {\n",
              "    cancel.onclick = () => {\n",
              "      resolve(null);\n",
              "    };\n",
              "  });\n",
              "\n",
              "  // Wait for the user to pick the files.\n",
              "  const files = yield {\n",
              "    promise: Promise.race([pickedPromise, cancelPromise]),\n",
              "    response: {\n",
              "      action: 'starting',\n",
              "    }\n",
              "  };\n",
              "\n",
              "  cancel.remove();\n",
              "\n",
              "  // Disable the input element since further picks are not allowed.\n",
              "  inputElement.disabled = true;\n",
              "\n",
              "  if (!files) {\n",
              "    return {\n",
              "      response: {\n",
              "        action: 'complete',\n",
              "      }\n",
              "    };\n",
              "  }\n",
              "\n",
              "  for (const file of files) {\n",
              "    const li = document.createElement('li');\n",
              "    li.append(span(file.name, {fontWeight: 'bold'}));\n",
              "    li.append(span(\n",
              "        `(${file.type || 'n/a'}) - ${file.size} bytes, ` +\n",
              "        `last modified: ${\n",
              "            file.lastModifiedDate ? file.lastModifiedDate.toLocaleDateString() :\n",
              "                                    'n/a'} - `));\n",
              "    const percent = span('0% done');\n",
              "    li.appendChild(percent);\n",
              "\n",
              "    outputElement.appendChild(li);\n",
              "\n",
              "    const fileDataPromise = new Promise((resolve) => {\n",
              "      const reader = new FileReader();\n",
              "      reader.onload = (e) => {\n",
              "        resolve(e.target.result);\n",
              "      };\n",
              "      reader.readAsArrayBuffer(file);\n",
              "    });\n",
              "    // Wait for the data to be ready.\n",
              "    let fileData = yield {\n",
              "      promise: fileDataPromise,\n",
              "      response: {\n",
              "        action: 'continue',\n",
              "      }\n",
              "    };\n",
              "\n",
              "    // Use a chunked sending to avoid message size limits. See b/62115660.\n",
              "    let position = 0;\n",
              "    do {\n",
              "      const length = Math.min(fileData.byteLength - position, MAX_PAYLOAD_SIZE);\n",
              "      const chunk = new Uint8Array(fileData, position, length);\n",
              "      position += length;\n",
              "\n",
              "      const base64 = btoa(String.fromCharCode.apply(null, chunk));\n",
              "      yield {\n",
              "        response: {\n",
              "          action: 'append',\n",
              "          file: file.name,\n",
              "          data: base64,\n",
              "        },\n",
              "      };\n",
              "\n",
              "      let percentDone = fileData.byteLength === 0 ?\n",
              "          100 :\n",
              "          Math.round((position / fileData.byteLength) * 100);\n",
              "      percent.textContent = `${percentDone}% done`;\n",
              "\n",
              "    } while (position < fileData.byteLength);\n",
              "  }\n",
              "\n",
              "  // All done.\n",
              "  yield {\n",
              "    response: {\n",
              "      action: 'complete',\n",
              "    }\n",
              "  };\n",
              "}\n",
              "\n",
              "scope.google = scope.google || {};\n",
              "scope.google.colab = scope.google.colab || {};\n",
              "scope.google.colab._files = {\n",
              "  _uploadFiles,\n",
              "  _uploadFilesContinue,\n",
              "};\n",
              "})(self);\n",
              "</script> "
            ]
          },
          "metadata": {}
        },
        {
          "output_type": "stream",
          "name": "stdout",
          "text": [
            "Saving purchases.csv to purchases.csv\n",
            "Saving products.csv to products.csv\n",
            "Saving users.csv to users.csv\n"
          ]
        }
      ]
    },
    {
      "cell_type": "code",
      "execution_count": 7,
      "metadata": {
        "colab": {
          "base_uri": "https://localhost:8080/"
        },
        "id": "KVuGRjfnQwgF",
        "outputId": "2f492cec-02d2-4ae0-81da-c5ac144d921c"
      },
      "outputs": [
        {
          "output_type": "stream",
          "name": "stdout",
          "text": [
            "--2025-03-11 22:24:06--  https://archive.apache.org/dist/spark/spark-3.5.0/spark-3.5.0-bin-hadoop3.tgz\n",
            "Resolving archive.apache.org (archive.apache.org)... 65.108.204.189, 2a01:4f9:1a:a084::2\n",
            "Connecting to archive.apache.org (archive.apache.org)|65.108.204.189|:443... connected.\n",
            "HTTP request sent, awaiting response... 200 OK\n",
            "Length: 400395283 (382M) [application/x-gzip]\n",
            "Saving to: ‘spark-3.5.0-bin-hadoop3.tgz’\n",
            "\n",
            "spark-3.5.0-bin-had 100%[===================>] 381.85M  19.3MB/s    in 21s     \n",
            "\n",
            "2025-03-11 22:24:27 (18.2 MB/s) - ‘spark-3.5.0-bin-hadoop3.tgz’ saved [400395283/400395283]\n",
            "\n"
          ]
        }
      ],
      "source": [
        "!apt-get install openjdk-11-jdk-headless -qq > /dev/null\n",
        "!wget https://archive.apache.org/dist/spark/spark-3.5.0/spark-3.5.0-bin-hadoop3.tgz\n",
        "!tar xf spark-3.5.0-bin-hadoop3.tgz\n"
      ]
    },
    {
      "cell_type": "code",
      "source": [
        "import os\n",
        "# Налаштування змінних середовища\n",
        "os.environ[\"JAVA_HOME\"] = \"/usr/lib/jvm/java-11-openjdk-amd64\"\n",
        "os.environ[\"SPARK_HOME\"] = \"/content/spark-3.5.0-bin-hadoop3\"\n",
        "\n",
        "# Підключення findspark\n",
        "!pip install findspark\n",
        "import findspark\n",
        "findspark.init()\n",
        "\n",
        "# Створення SparkSession\n",
        "from pyspark.sql import SparkSession\n",
        "spark = SparkSession.builder.master(\"local[*]\").getOrCreate()\n",
        "spark.version\n"
      ],
      "metadata": {
        "colab": {
          "base_uri": "https://localhost:8080/",
          "height": 52
        },
        "id": "B6F--VmXTkk-",
        "outputId": "1acef700-c1ba-4c71-f707-ce57ffc6a07c"
      },
      "execution_count": 8,
      "outputs": [
        {
          "output_type": "stream",
          "name": "stdout",
          "text": [
            "Requirement already satisfied: findspark in /usr/local/lib/python3.11/dist-packages (2.0.1)\n"
          ]
        },
        {
          "output_type": "execute_result",
          "data": {
            "text/plain": [
              "'3.5.0'"
            ],
            "application/vnd.google.colaboratory.intrinsic+json": {
              "type": "string"
            }
          },
          "metadata": {},
          "execution_count": 8
        }
      ]
    },
    {
      "cell_type": "code",
      "source": [
        "# Завантаження CSV-файлів\n",
        "users_df = spark.read.csv(\"users.csv\", header=True, inferSchema=True)\n",
        "purchases_df = spark.read.csv(\"purchases.csv\", header=True, inferSchema=True)\n",
        "products_df = spark.read.csv(\"products.csv\", header=True, inferSchema=True)"
      ],
      "metadata": {
        "id": "tfA6ITzIT7mv"
      },
      "execution_count": 9,
      "outputs": []
    },
    {
      "cell_type": "code",
      "source": [
        "# Очищення даних (видалення рядків із пропущеними значеннями)\n",
        "users_df = users_df.dropna()\n",
        "purchases_df = purchases_df.dropna()\n",
        "products_df = products_df.dropna()\n"
      ],
      "metadata": {
        "id": "65FNHyFNUQao"
      },
      "execution_count": 10,
      "outputs": []
    },
    {
      "cell_type": "code",
      "source": [
        "# Визначення загальної суми покупок за кожною категорією продуктів\n",
        "from pyspark.sql.functions import col, sum as spark_sum, round\n",
        "\n",
        "# Об'єднання таблиць purchases та products\n",
        "purchases_products_df = purchases_df.join(products_df, \"product_id\")\n",
        "\n",
        "# Додавання стовпчика total_price (кількість × ціна)\n",
        "purchases_products_df = purchases_products_df.withColumn(\n",
        "    \"total_price\", col(\"quantity\") * col(\"price\")\n",
        ")\n",
        "\n",
        "# Загальна сума за категорією продуктів\n",
        "total_by_category_df = purchases_products_df.groupBy(\"category\").agg(\n",
        "    spark_sum(\"total_price\").alias(\"total_spent\")\n",
        ").withColumn(\"total_spent\", round(col(\"total_spent\"), 2))\n",
        "\n",
        "\n",
        "total_by_category_df.show()\n"
      ],
      "metadata": {
        "colab": {
          "base_uri": "https://localhost:8080/"
        },
        "id": "nlVveAVxUhbN",
        "outputId": "65cf20b1-9b98-48d8-d533-05c849707c4f"
      },
      "execution_count": 13,
      "outputs": [
        {
          "output_type": "stream",
          "name": "stdout",
          "text": [
            "+-----------+-----------+\n",
            "|   category|total_spent|\n",
            "+-----------+-----------+\n",
            "|       Home|     1523.5|\n",
            "|     Sports|     1802.5|\n",
            "|Electronics|     1174.8|\n",
            "|   Clothing|      790.3|\n",
            "|     Beauty|      459.9|\n",
            "+-----------+-----------+\n",
            "\n"
          ]
        }
      ]
    },
    {
      "cell_type": "code",
      "source": [
        "# Визначення суми покупок за категорією для користувачів віком від 18 до 25 включно\n",
        "# Фільтрування користувачів за віком 18-25\n",
        "young_users_df = users_df.filter((col(\"age\") >= 18) & (col(\"age\") <= 25))\n",
        "\n",
        "# Об'єднання всіх таблиць\n",
        "young_purchases_df = purchases_products_df.join(young_users_df, \"user_id\")\n",
        "\n",
        "# Сума витрат за категорією для вікової категорії 18-25\n",
        "young_total_by_category_df = young_purchases_df.groupBy(\"category\").agg(\n",
        "    spark_sum(\"total_price\").alias(\"total_spent\")\n",
        ").withColumn(\"total_spent\", round(col(\"total_spent\"), 2))\n",
        "\n",
        "young_total_by_category_df.show()\n"
      ],
      "metadata": {
        "colab": {
          "base_uri": "https://localhost:8080/"
        },
        "id": "XTkWGqnYWsgH",
        "outputId": "09b07ab0-67ea-443f-af97-7db259b1b9b0"
      },
      "execution_count": 17,
      "outputs": [
        {
          "output_type": "stream",
          "name": "stdout",
          "text": [
            "+-----------+-----------+\n",
            "|   category|total_spent|\n",
            "+-----------+-----------+\n",
            "|       Home|      361.1|\n",
            "|     Sports|      310.5|\n",
            "|Electronics|      249.6|\n",
            "|   Clothing|      245.0|\n",
            "|     Beauty|       41.4|\n",
            "+-----------+-----------+\n",
            "\n"
          ]
        }
      ]
    },
    {
      "cell_type": "code",
      "source": [
        "# Визначення частки витрат за категорією від загальних витрат для вікової групи 18-25 років\n",
        "# Загальна сума витрат користувачів віком 18-25 років\n",
        "total_young_spent = young_total_by_category_df.agg(\n",
        "    spark_sum(\"total_spent\").alias(\"overall_total\")\n",
        ").collect()[0][\"overall_total\"]\n",
        "\n",
        "# Розрахунок відсоткової частки за категорією\n",
        "percentage_by_category_df = young_total_by_category_df.withColumn(\n",
        "    \"percentage\",\n",
        "    round((col(\"total_spent\") / total_young_spent) * 100, 2)\n",
        ")\n",
        "\n",
        "percentage_by_category_df.show()\n"
      ],
      "metadata": {
        "colab": {
          "base_uri": "https://localhost:8080/"
        },
        "id": "PfAy9GasXY_U",
        "outputId": "a9c10349-424c-4f06-e66f-d226b744d6ad"
      },
      "execution_count": 18,
      "outputs": [
        {
          "output_type": "stream",
          "name": "stdout",
          "text": [
            "+-----------+-----------+----------+\n",
            "|   category|total_spent|percentage|\n",
            "+-----------+-----------+----------+\n",
            "|       Home|      361.1|      29.9|\n",
            "|     Sports|      310.5|     25.71|\n",
            "|Electronics|      249.6|     20.67|\n",
            "|   Clothing|      245.0|     20.29|\n",
            "|     Beauty|       41.4|      3.43|\n",
            "+-----------+-----------+----------+\n",
            "\n"
          ]
        }
      ]
    },
    {
      "cell_type": "code",
      "source": [
        "# Вибір трьох категорій з найвищим відсотком витрат споживачами віком від 18 до 25 років\n",
        "top_3_categories_df = percentage_by_category_df.orderBy(col(\"percentage\").desc()).limit(3)\n",
        "\n",
        "top_3_categories_df.show()\n"
      ],
      "metadata": {
        "colab": {
          "base_uri": "https://localhost:8080/"
        },
        "id": "WzjIZManXruJ",
        "outputId": "70a5d7be-5273-472c-d787-695d94c5050c"
      },
      "execution_count": 19,
      "outputs": [
        {
          "output_type": "stream",
          "name": "stdout",
          "text": [
            "+-----------+-----------+----------+\n",
            "|   category|total_spent|percentage|\n",
            "+-----------+-----------+----------+\n",
            "|       Home|      361.1|      29.9|\n",
            "|     Sports|      310.5|     25.71|\n",
            "|Electronics|      249.6|     20.67|\n",
            "+-----------+-----------+----------+\n",
            "\n"
          ]
        }
      ]
    }
  ]
}